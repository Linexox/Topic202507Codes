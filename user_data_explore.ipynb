{
 "cells": [
  {
   "cell_type": "code",
   "execution_count": 5,
   "metadata": {},
   "outputs": [],
   "source": [
    "import json\n",
    "import os\n",
    "import pandas as pd\n",
    "\n",
    "df = pd.read_csv(\"lab.dataset\\\\DuRecDial\\\\movies_with_mentions.csv\", encoding=\"ANSI\")\n",
    "movie_id2name = {}\n",
    "movie_name2id = {}\n",
    "for index, row in df.iterrows():\n",
    "    movie_id = row[\"movie_id\"]\n",
    "    movie_name = row[\"movie_name\"]\n",
    "    movie_id2name[movie_id] = movie_name\n",
    "    movie_name2id[movie_name] = movie_id\n",
    "    \n",
    "train_file_path = \"datasets\\\\DuRecDial\\\\en_train.txt\"\n",
    "with open(train_file_path, \"r\", encoding=\"utf-8\") as f:\n",
    "    train_data_txt = f.readlines()\n",
    "train_data = [json.loads(line) for line in train_data_txt]\n",
    "\n",
    "dev_file_path = \"datasets\\\\DuRecDial\\\\en_dev.txt\"\n",
    "with open(dev_file_path, \"r\", encoding=\"utf-8\") as f:\n",
    "    dev_data_txt = f.readlines()\n",
    "dev_data = [json.loads(line) for line in dev_data_txt]\n",
    "\n",
    "test_file_path = \"datasets\\\\DuRecDial\\\\en_test.txt\"\n",
    "with open(test_file_path, \"r\", encoding=\"utf-8\") as f:\n",
    "    test_data_txt = f.readlines()\n",
    "test_data = [json.loads(line) for line in test_data_txt]\n"
   ]
  },
  {
   "cell_type": "code",
   "execution_count": 4,
   "metadata": {},
   "outputs": [],
   "source": [
    "# check same user's profile info\n",
    "user_set = set([conv[\"user_profile\"][\"Name\"] for conv in data])\n",
    "user_id2name = {}\n",
    "user_name2id = {}\n",
    "for user_id, user_name in enumerate(user_set):\n",
    "    user_id2name[user_id] = user_name\n",
    "    user_name2id[user_name] = user_id\n",
    "# print(f\"users: {users}\")\n",
    "# print(f\"user number: {len(users)}\")"
   ]
  },
  {
   "cell_type": "raw",
   "metadata": {},
   "source": [
    "{'Age Range': 'Over 50 years old', 'Name': 'Qizhen Ji', 'Residence': 'Baoding',\n",
    "'Accepted food': 'Sautéed\\xa0Shredded\\xa0Pork\\xa0in\\xa0Sweet\\xa0Bean\\xa0Sauce',\n",
    "'Accepted movies': ['Rumble in the Bronx', 'Earth: One Amazing Day', 'Jackie Chan: My Story'],\n",
    "'Accepted Music': ['Drunken Master'], 'Rejected music': ['Strive For Happiness'], 'Gender': 'Male',\n",
    "'Accepted celebrities': ['Jackie Chan', 'Leehom Wang'],\n",
    "'Accepted movie': ['Traces of a Dragon: Jackie Chan & His Lost Family'],\n",
    "'Reject': ['News'],\n",
    "'Rejected movies': ['Chop Socky: Cinema Hong Kong'],\n",
    "'Accepted POI': 'Kwonkimdo Korean Self-served BBQ and Hot Pot',\n",
    "'Accepted music': ['All the Things You Never Knew'], 'Occupation': 'Retired'}\n"
   ]
  },
  {
   "cell_type": "code",
   "execution_count": null,
   "metadata": {},
   "outputs": [],
   "source": [
    "# for conv in data:"
   ]
  }
 ],
 "metadata": {
  "kernelspec": {
   "display_name": "base",
   "language": "python",
   "name": "python3"
  },
  "language_info": {
   "codemirror_mode": {
    "name": "ipython",
    "version": 3
   },
   "file_extension": ".py",
   "mimetype": "text/x-python",
   "name": "python",
   "nbconvert_exporter": "python",
   "pygments_lexer": "ipython3",
   "version": "3.11.11"
  }
 },
 "nbformat": 4,
 "nbformat_minor": 2
}
