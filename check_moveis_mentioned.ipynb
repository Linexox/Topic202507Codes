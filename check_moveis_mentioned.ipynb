{
 "cells": [
  {
   "cell_type": "code",
   "execution_count": 10,
   "metadata": {},
   "outputs": [],
   "source": [
    "import json\n",
    "import os\n",
    "import pandas as pd"
   ]
  },
  {
   "cell_type": "code",
   "execution_count": 11,
   "metadata": {},
   "outputs": [],
   "source": [
    "df = pd.read_csv(\"lab.dataset\\\\DuRecDial\\\\movies_with_mentions.csv\", encoding=\"ANSI\")\n",
    "movie_id2name = {}\n",
    "movie_name2id = {}\n",
    "for index, row in df.iterrows():\n",
    "    movie_id = row[\"movie_id\"]\n",
    "    movie_name = row[\"movie_name\"]\n",
    "    movie_id2name[movie_id] = movie_name\n",
    "    movie_name2id[movie_name] = movie_id"
   ]
  },
  {
   "cell_type": "code",
   "execution_count": 17,
   "metadata": {},
   "outputs": [
    {
     "name": "stderr",
     "output_type": "stream",
     "text": [
      "100%|██████████| 5678/5678 [00:04<00:00, 1367.17it/s]"
     ]
    },
    {
     "name": "stdout",
     "output_type": "stream",
     "text": [
      "Total conversations with movie mentions: 2580\n"
     ]
    },
    {
     "name": "stderr",
     "output_type": "stream",
     "text": [
      "\n"
     ]
    }
   ],
   "source": [
    "file_path = \"datasets\\\\DuRecDial\\\\en_train.txt\"\n",
    "with open(file_path, \"r\", encoding=\"utf-8\") as f:\n",
    "    data_txt = f.readlines()\n",
    "data = [json.loads(line) for line in data_txt]\n",
    "new_data = []\n",
    "\n",
    "# movie in conversation?\n",
    "from tqdm import tqdm\n",
    "\n",
    "movie_total = 0\n",
    "for conv in tqdm(data):\n",
    "    conv[\"movie_mentioned\"] = []\n",
    "    found = False\n",
    "    for movie in movie_name2id.keys():\n",
    "        for uttr in conv[\"conversation\"]:\n",
    "            if movie in uttr:\n",
    "                conv[\"movie_mentioned\"].append(movie)\n",
    "                movie_total += 1\n",
    "                found = True\n",
    "                break\n",
    "    if found:\n",
    "        new_data.append(conv)\n",
    "\n",
    "print(f\"Total conversations with movie mentions: {movie_total}\")"
   ]
  },
  {
   "cell_type": "code",
   "execution_count": 21,
   "metadata": {},
   "outputs": [
    {
     "name": "stdout",
     "output_type": "stream",
     "text": [
      "movie mentioned: ['Left Right Love Destiny', 'Failan', 'The Stool Pigeon']\n",
      "['Cecilia Cheung', 'Stars', 'Left Right Love Destiny'] [1] Who is the leading actor of the movie Left Right Love Destiny?\n",
      "['Cecilia Cheung', 'Stars', 'Left Right Love Destiny'] It's Cecilia Cheung\n",
      "[] You even know that. Excellent!\n",
      "['Cecilia Cheung', 'Intro', 'Chinese dreamgirl'] [2] Thank you for your praise. She's a Chinese idol. Of course I know her.\n",
      "[] Yes my idol is quite unusual.\n",
      "['Cecilia Cheung', 'Achievement', 'Outstanding Asian artists of New York China Film Festival'] She is also an Asian Outstanding Artist in New York Chinese Film Festival. Excellent.\n",
      "[] Yes. People like her will shine wherever they go.\n",
      "['Failan', 'Comments', \"Failan presents a love tragedy isolated in different time and space, but the film does not stop at telling a sad and beautiful love. Through the shell of the sad story, the audience gets the director's deeper thinking and understanding of the human nature of life.Focusing on the spiritual core of saving and being saved, the narrative unfolds, the theme is expounded, and the blindness to reality is unveiled. The audience is touched and awakened. The director fully played the magic of the movie, disrupting the narrative time and space, intersecting the past and the present, and advancing freely following the protagonists’ emotions, making the story structure more tense and the theme and emotions more heartfelt. Although it describes the underworld, the director deliberately avoided the violence rendering and used extremely life-like methods to describe the underworld story routines such as gang struggle and group fight.\"] [3] Then don't miss her movie Failan. It shows a love tragedy in which the two people are secluded in different time spaces. However, the movie doesn't just tell a sad but beautiful love story. Through the story, the audiences can see the director's profound thinking and understanding of life and human nature.\n",
      "[] Although I really like her, I prefer to see Nicholas Tse's movies.\n",
      "['Nicholas Tse', 'Stars', 'The Stool Pigeon'] [4] Then you can watch Nicholas Tse's movie The Stool Pigeon. His acting is good.\n",
      "['The Stool Pigeon', 'Type', 'Action plot Thriller'] What kind of movie is it?\n",
      "['The Stool Pigeon', 'Type', 'Action plot Thriller'] It's an action drama, with a little bit of thriller.\n",
      "[] Woah, sounds interesting.\n",
      "[] I'm sure you'll like it.\n",
      "[] [5] Then I'm leaving too see the movie.\n",
      "[] Okay, see you next time.\n"
     ]
    }
   ],
   "source": [
    "data = new_data\n",
    "idx = 0\n",
    "conv = data[idx]\n",
    "print(f\"movie mentioned: {conv['movie_mentioned']}\")\n",
    "# print(f\"conversation: {conv['conversation']}\")\n",
    "# print(f\"knowledge: {conv['knowledge']}\")\n",
    "for k,c in zip(conv['knowledge'], conv['conversation']):\n",
    "    print(k, c)"
   ]
  }
 ],
 "metadata": {
  "kernelspec": {
   "display_name": "base",
   "language": "python",
   "name": "python3"
  },
  "language_info": {
   "codemirror_mode": {
    "name": "ipython",
    "version": 3
   },
   "file_extension": ".py",
   "mimetype": "text/x-python",
   "name": "python",
   "nbconvert_exporter": "python",
   "pygments_lexer": "ipython3",
   "version": "3.11.11"
  }
 },
 "nbformat": 4,
 "nbformat_minor": 2
}
