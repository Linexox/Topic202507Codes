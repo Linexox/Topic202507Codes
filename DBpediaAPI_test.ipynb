{
 "cells": [
  {
   "cell_type": "code",
   "execution_count": 1,
   "metadata": {},
   "outputs": [
    {
     "ename": "SyntaxError",
     "evalue": "unterminated string literal (detected at line 28) (3859425891.py, line 28)",
     "output_type": "error",
     "traceback": [
      "  \u001b[36mCell\u001b[39m\u001b[36m \u001b[39m\u001b[32mIn[1]\u001b[39m\u001b[32m, line 28\u001b[39m\n\u001b[31m    \u001b[39m\u001b[31mprint(f\"URI: {result['URI']}\u001b[39m\n          ^\n\u001b[31mSyntaxError\u001b[39m\u001b[31m:\u001b[39m unterminated string literal (detected at line 28)\n"
     ]
    },
    {
     "ename": "",
     "evalue": "",
     "output_type": "error",
     "traceback": [
      "\u001b[1;31mThe Kernel crashed while executing code in the current cell or a previous cell. \n",
      "\u001b[1;31mPlease review the code in the cell(s) to identify a possible cause of the failure. \n",
      "\u001b[1;31mClick <a href='https://aka.ms/vscodeJupyterKernelCrash'>here</a> for more info. \n",
      "\u001b[1;31mView Jupyter <a href='command:jupyter.viewOutput'>log</a> for further details."
     ]
    }
   ],
   "source": [
    "import requests\n",
    "import xmltodict\n",
    "\n",
    "# 定义要搜索的关键词\n",
    "keyword = \"Python\"\n",
    "\n",
    "# 设置查询参数\n",
    "url = \"http://lookup.dbpedia.org/api/search/KeywordSearch\"\n",
    "params = {\n",
    "    \"QueryString\": keyword,\n",
    "    \"MaxHits\": 3\n",
    "}\n",
    "\n",
    "# 发送请求\n",
    "response = requests.get(url, params=params)\n",
    "\n",
    "# 解析返回的 XML 数据\n",
    "if response.status_code == 200:\n",
    "    data = xmltodict.parse(response.text)\n",
    "    results = data.get(\"ArrayOfResults\", {}).get(\"Result\", [])\n",
    "\n",
    "    if not isinstance(results, list):\n",
    "        results = [results]  # 如果只有一个结果，转换为列表\n",
    "\n",
    "    for result in results:\n",
    "        print(f\"Label: {result['Label']}\")\n",
    "        print(f\"Description: {result['Description']}\")\n",
    "        print(f\"URI: {result['URI']}\n",
    "\")\n",
    "else:\n",
    "    print(f\"Error: {response.status_code}\")\n"
   ]
  },
  {
   "cell_type": "code",
   "execution_count": null,
   "metadata": {},
   "outputs": [],
   "source": [
    "oh-my-posh init pwsh --config \"$env:POSH_THEMES_PATH/jandedobbeleer.omp.json\" | Invoke-Expression"
   ]
  }
 ],
 "metadata": {
  "kernelspec": {
   "display_name": "base",
   "language": "python",
   "name": "python3"
  },
  "language_info": {
   "codemirror_mode": {
    "name": "ipython",
    "version": 3
   },
   "file_extension": ".py",
   "mimetype": "text/x-python",
   "name": "python",
   "nbconvert_exporter": "python",
   "pygments_lexer": "ipython3",
   "version": "3.11.11"
  }
 },
 "nbformat": 4,
 "nbformat_minor": 2
}
